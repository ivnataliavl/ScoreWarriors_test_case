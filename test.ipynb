{
 "cells": [
  {
   "cell_type": "code",
   "execution_count": null,
   "metadata": {
    "collapsed": true,
    "pycharm": {
     "name": "#%%\n"
    }
   },
   "outputs": [],
   "source": [
    "import numpy as np\n",
    "import pandas as pd\n",
    "from matplotlib import pyplot as plt\n",
    "import seaborn as sns\n",
    "from statsmodels.stats.multitest import multipletests\n"
   ]
  },
  {
   "cell_type": "code",
   "execution_count": null,
   "outputs": [],
   "source": [
    "#Загружаем данные\n",
    "\n",
    "installs = pd.read_csv('data/installs.csv')\n",
    "logins = pd.read_csv('data/logins.csv')\n",
    "payments = pd.read_csv('data/payments.csv')\n"
   ],
   "metadata": {
    "collapsed": false,
    "pycharm": {
     "name": "#%%\n"
    }
   }
  },
  {
   "cell_type": "markdown",
   "source": [
    "# Описание данных"
   ],
   "metadata": {
    "collapsed": false,
    "pycharm": {
     "name": "#%% md\n"
    }
   }
  },
  {
   "cell_type": "code",
   "execution_count": null,
   "outputs": [],
   "source": [
    "#Проверяем на пропуски\n",
    "installs.info()\n",
    "logins.info()\n",
    "payments.info()\n",
    "\n",
    "#Пропусков в данных нет"
   ],
   "metadata": {
    "collapsed": false,
    "pycharm": {
     "name": "#%%\n"
    }
   }
  },
  {
   "cell_type": "code",
   "execution_count": null,
   "outputs": [],
   "source": [
    "# Посмотрим на доступные к покупке опции для каждой группы\n",
    "# Покупки контрольной группы\n",
    "payments[ payments.group == 1 ].groupby('payment_tag')['price'].agg('unique')"
   ],
   "metadata": {
    "collapsed": false,
    "pycharm": {
     "name": "#%%\n"
    }
   }
  },
  {
   "cell_type": "code",
   "execution_count": null,
   "outputs": [],
   "source": [
    "# Покупки группы 2\n",
    "payments[ payments.group == 2 ].groupby('payment_tag')['price'].agg('unique')"
   ],
   "metadata": {
    "collapsed": false,
    "pycharm": {
     "name": "#%%\n"
    }
   }
  },
  {
   "cell_type": "code",
   "execution_count": null,
   "outputs": [],
   "source": [
    "# Покупки группы 2\n",
    "payments[ payments.group == 3 ].groupby('payment_tag')['price'].agg('unique')"
   ],
   "metadata": {
    "collapsed": false,
    "pycharm": {
     "name": "#%%\n"
    }
   }
  },
  {
   "cell_type": "code",
   "execution_count": null,
   "outputs": [],
   "source": [
    "# Установки, логины, покупки\n",
    "\n",
    "print(\n",
    "    f'Количество уникальных установок:{installs.user_id.nunique()}, \\n'\n",
    "    f'Количество уникальных логинов: {logins.user_id.nunique()}, \\n'\n",
    "    f'Количество уникальных покупателей: {payments.user_id.nunique()}'\n",
    "\n",
    ")"
   ],
   "metadata": {
    "collapsed": false,
    "pycharm": {
     "name": "#%%\n"
    }
   }
  },
  {
   "cell_type": "code",
   "execution_count": null,
   "outputs": [],
   "source": [
    "# Доход всего\n",
    "\n",
    "print(\n",
    "    f'Доход всего: ${payments.price.sum()}\\n'\n",
    ")"
   ],
   "metadata": {
    "collapsed": false,
    "pycharm": {
     "name": "#%%\n"
    }
   }
  },
  {
   "cell_type": "code",
   "execution_count": null,
   "outputs": [],
   "source": [
    "# Доход по группам\n",
    "pd.DataFrame(payments.groupby('group')['price'].sum())"
   ],
   "metadata": {
    "collapsed": false,
    "pycharm": {
     "name": "#%%\n"
    }
   }
  },
  {
   "cell_type": "code",
   "execution_count": null,
   "outputs": [],
   "source": [
    "# Перед объединением данных и проведением тестов проверим корректность данных\n",
    "# - каждый пользователь должен находиться только в одной группе\n",
    "\n",
    "installs[ installs.user_id.duplicated(keep=False) ==True ]\n",
    "# У каждого пользователя только одна установка"
   ],
   "metadata": {
    "collapsed": false,
    "pycharm": {
     "name": "#%%\n"
    }
   }
  },
  {
   "cell_type": "code",
   "execution_count": null,
   "outputs": [],
   "source": [
    "# Пользователи в датасете logins, записанные несколько раз, должны относяться только к одной группе.\n",
    "# Появление нескольких записей нормально - пользователи логинятся несколько раз, но нужно проверить нет ли ошибки\n",
    "# - не отнесены ли пользователи к разным группам.\n",
    "logins[ logins.user_id.duplicated(keep=False) ==True ].\\\n",
    "    groupby('user_id').\\\n",
    "    agg({'group':'unique'}).\\\n",
    "    sort_values(ascending=False, by='group')\n",
    "\n",
    "# Каждый пользователь относится только к одной группе"
   ],
   "metadata": {
    "collapsed": false,
    "pycharm": {
     "name": "#%%\n"
    }
   }
  },
  {
   "cell_type": "code",
   "execution_count": null,
   "outputs": [],
   "source": [
    "# Пользователи в датасете payments, записанные несколько раз, должны относяться только к одной группе\n",
    "# С данными о покупке тоже самое - пользователи могут покупать несколько раз, но нужно проверить нет ли ошибки\n",
    "# - не отнесены ли пользователи к разным группам\n",
    "payments[ payments.user_id.duplicated(keep=False) ==True ].\\\n",
    "    groupby('user_id').\\\n",
    "    agg({'group':'unique'}).\\\n",
    "    sort_values(ascending=False, by='group')\n",
    "\n",
    "# Каждый пользователь относится только к одной группе"
   ],
   "metadata": {
    "collapsed": false,
    "pycharm": {
     "name": "#%%\n"
    }
   }
  },
  {
   "cell_type": "markdown",
   "source": [
    "Все пользователи относятся только к одной группе, в данных нет ошибок"
   ],
   "metadata": {
    "collapsed": false,
    "pycharm": {
     "name": "#%% md\n"
    }
   }
  },
  {
   "cell_type": "code",
   "execution_count": null,
   "outputs": [],
   "source": [
    "# Длительность теста\n",
    "# Привести все таймстампы к дейт тайму\n",
    "installs['datetime'] = pd.to_datetime(installs['timestamp'], unit='s')\n",
    "logins['datetime'] = pd.to_datetime(logins['timestamp'], unit='s')\n",
    "payments['datetime'] = pd.to_datetime(payments['timestamp'], unit='s')\n",
    "\n",
    "print(\n",
    "    f'Длительность A/B/C-теста: {logins.datetime.max()-logins.datetime.min()}'\n",
    ")\n",
    "\n"
   ],
   "metadata": {
    "collapsed": false,
    "pycharm": {
     "name": "#%%\n"
    }
   }
  },
  {
   "cell_type": "markdown",
   "source": [
    "# Описание данных:\n",
    "Есть 3 тестовые группы:\n",
    "- контрольная,\n",
    "- облегченный стартовый набор, стоимость ниже обычной в 5 раз, наполнение в 2 раза\n",
    "- более выгодные daily supplies - отдельные наборы ресурсов (3 вида), получение части покупки происходит в течение 30 дней\n",
    "___________________\n",
    "**Контрольная группа**\n",
    "\n",
    "Стартер пак, $4.99\n",
    "\n",
    "Обычные наборы, $4.99, $9.99, $19.99, $49.99, $99.99, $249.99\n",
    "\n",
    "___________________\n",
    "**Группа 2**\n",
    "Облегченный стартер пак, $0.99\n",
    "\n",
    "Обычные наборы, $4.99, $9.99, $19.99, $49.99, $99.99, $249.99\n",
    "\n",
    "___________________\n",
    "**Группа 3**\n",
    "Стартер пак, $4.99\n",
    "\n",
    "Daily supplies, $9.99, $19.99\n",
    "\n",
    "Обычные наборы, $4.99, $9.99, $19.99, $49.99, $99.99, $249.99\n",
    "\n",
    "___________________\n",
    "\n",
    "Скорее всего тестируется несколько гипотез:\n",
    "- Чем руководствуются пользователи: дешевизна или выгода?\n",
    "- Станут ли пользователи чаще конвертироваться в покупку, если снизить порог входа? (группа 2)\n",
    "- Будут ли пользователи, которые совершили небольшую первую покупку затем играть и тратить столько же, сколько и другие? (группа 2)\n",
    "- Как на пользователей влияет фактор длительности получения покупки? (группа 3)\n",
    "- Нужны ли пользователям отдельные наборы ресурсов? (группа 3)\n",
    "\n"
   ],
   "metadata": {
    "collapsed": false,
    "pycharm": {
     "name": "#%% md\n"
    }
   }
  },
  {
   "cell_type": "markdown",
   "source": [
    "# Расчет метрик\n"
   ],
   "metadata": {
    "collapsed": false,
    "pycharm": {
     "name": "#%% md\n"
    }
   }
  },
  {
   "cell_type": "code",
   "execution_count": null,
   "outputs": [],
   "source": [
    "# Оставляем только записи с первыми логинами\n",
    "\n",
    "# Группируем датасет logins по user_id и group, выбираем минимальную и максимальную дату для каждого юзера\n",
    "first_logins = logins.groupby(['user_id', 'group'])\\\n",
    "     .agg({'datetime':['min', 'max']}).reset_index(col_level=1)\n",
    "\n",
    "# Убираем многоуровневость из названий колонок\n",
    "first_logins.columns = first_logins.columns.droplevel(level=0)\n",
    "\n",
    "# Переименовываем\n",
    "first_logins.rename(columns={'min': 'datetime_first_login', 'max':'datetime_last_login'}, inplace=True)\n",
    "first_logins.head()\n",
    "\n"
   ],
   "metadata": {
    "collapsed": false,
    "pycharm": {
     "name": "#%%\n"
    }
   }
  },
  {
   "cell_type": "code",
   "execution_count": null,
   "outputs": [],
   "source": [
    "# Добавляем к логинам все платежи\n",
    "\n",
    "# Объединяем датасет logins с payments\n",
    "first_logins_payments = first_logins.merge(\n",
    "    payments[['user_id', 'datetime', 'payment_tag', 'price']],\n",
    "    how='left',\n",
    "    on='user_id',\n",
    ")\n",
    "\n",
    "# Переименовываем\n",
    "first_logins_payments.rename(columns={'datetime': 'datetime_payment'}, inplace=True)\n",
    "first_logins_payments.head(50)\n",
    "\n",
    "#Каждый пользователь продублирован по количеству платежей"
   ],
   "metadata": {
    "collapsed": false,
    "pycharm": {
     "name": "#%%\n"
    }
   }
  },
  {
   "cell_type": "markdown",
   "source": [
    "# ARPU"
   ],
   "metadata": {
    "collapsed": false,
    "pycharm": {
     "name": "#%% md\n"
    }
   }
  },
  {
   "cell_type": "code",
   "execution_count": null,
   "outputs": [],
   "source": [
    "# Считаем ARPU и ARPPU по тестовым группам\n",
    "#Заполняем null на 0\n",
    "first_logins_payments.fillna(value={'price':0}, inplace=True)\n",
    "\n",
    "# Группируем по тестовым группым и считаем метрики\n",
    "arpu_per_group = first_logins_payments.groupby('group')\\\n",
    "    .agg(\n",
    "    {\n",
    "        'price': [sum],\n",
    "        'user_id': ['nunique']\n",
    "    }\n",
    ")\n",
    "\n",
    "# Убираем многоуровневость из колонок, переименовываем колонки\n",
    "arpu_per_group.columns = arpu_per_group.columns.droplevel(level=0)\n",
    "arpu_per_group.rename(columns={'nunique': 'unique_users', 'sum':'revenue'}, inplace=True)\n",
    "arpu_per_group['arpu'] = arpu_per_group.revenue/arpu_per_group.unique_users\n",
    "arpu_per_group"
   ],
   "metadata": {
    "collapsed": false,
    "pycharm": {
     "name": "#%%\n"
    }
   }
  },
  {
   "cell_type": "code",
   "execution_count": null,
   "outputs": [],
   "source": [
    "# Рассчитаем минимальный размер выборки для теста arpu, чтобы убедиться, что данных достаточно\n",
    "import pingouin as pg\n",
    "from numpy import ceil\n",
    "#Считаем effect size для трех групп\n",
    "aov = pg.anova(\n",
    "    dv='price',\n",
    "    between='group',\n",
    "    data=first_logins_payments,\n",
    "    detailed=True,\n",
    "    effsize='n2'\n",
    ")\n",
    "\n",
    "#Считаем минимально необходимый размер групп\n",
    "group_size = pg.power_anova(\n",
    "    eta=aov.n2[0],\n",
    "    k=3, power=0.80,\n",
    "    alpha=0.05\n",
    ")\n",
    "print(\n",
    "    f'Минимальный необходимый размер групп:{ceil(group_size/3)}'\n",
    ")\n",
    "print('Количество пользователей в группах:')\n",
    "first_logins_payments.groupby('group').user_id.nunique()\n",
    "\n",
    "# Размер выборки достаточный"
   ],
   "metadata": {
    "collapsed": false,
    "pycharm": {
     "name": "#%%\n"
    }
   }
  },
  {
   "cell_type": "markdown",
   "source": [
    "### Какой провести тест?\n",
    "Необходимо сравнить распределение покупок в 3 группах.\n",
    "\n",
    "Fisher f-test условия:\n",
    "- Нормальное распределение\n",
    "- Независимость данных\n",
    "\n",
    "Tuckey HSD test условия:\n",
    "- Независимость данных\n",
    "- Нормальное распределение\n",
    "- Одинаковая дисперсия в выборках\n",
    "\n",
    "Kruskal-wallis test условия:\n",
    "- Зависимая переменная - порядковая или непрерывная\n",
    "- Независимость данных\n",
    "- Все группы должны иметь одинаковую форму распределения (использует медианы для расчета)\n",
    "- Не очень хорошо работает с повторами\n"
   ],
   "metadata": {
    "collapsed": false,
    "pycharm": {
     "name": "#%% md\n"
    }
   }
  },
  {
   "cell_type": "code",
   "execution_count": null,
   "outputs": [],
   "source": [
    "#Проводим проверку на нормальность распределения\n",
    "from stat_funcs import visual_normality_check, statistical_normality_test\n",
    "\n",
    "control = first_logins_payments[first_logins_payments.group==1]\n",
    "group2 = first_logins_payments[first_logins_payments.group==2]\n",
    "group3 = first_logins_payments[first_logins_payments.group==3]\n",
    "\n",
    "groups = {'control group':control, 'test group 2':group2, 'test group 3':group3}\n",
    "for group_name, group_df in groups.items():\n",
    "    print(f'Check normality for {group_name}')\n",
    "    visual_normality_check(feature_name='price', df_name=group_df)\n",
    "    statistical_normality_test(feature_name='price', df_name=group_df, alpha=0.05)\n",
    "\n",
    "#Все распределения не нормальные"
   ],
   "metadata": {
    "collapsed": false,
    "pycharm": {
     "name": "#%%\n"
    }
   }
  },
  {
   "cell_type": "code",
   "execution_count": null,
   "outputs": [],
   "source": [
    "# Делаем проверку на гомогенность дисперсий\n",
    "from stat_funcs import equal_var_test\n",
    "\n",
    "equal_var_test(control.price, group2.price, group3.price)\n",
    "\n",
    "# Дисперсии не гомогенны"
   ],
   "metadata": {
    "collapsed": false,
    "pycharm": {
     "name": "#%%\n"
    }
   }
  },
  {
   "cell_type": "code",
   "execution_count": null,
   "outputs": [],
   "source": [
    "# Проверим одинакова ли форма распределений\n",
    "\n",
    "fig, ax = plt.subplots(figsize=(16,10))\n",
    "sns.kdeplot(control.price)\n",
    "sns.kdeplot(group2.price)\n",
    "sns.kdeplot(group3.price)\n",
    "ax.legend(['control', 'group2', 'group3'])\n",
    "plt.show()\n",
    "\n",
    "#Форма распределений практически идентична"
   ],
   "metadata": {
    "collapsed": false,
    "pycharm": {
     "name": "#%%\n"
    }
   }
  },
  {
   "cell_type": "markdown",
   "source": [
    "Fisher и Tuckey не подходят, т.к. не соблюдены условия нормальности распределения и гомогенности дисперсий.\n",
    "\n",
    "Критерий Краскела-Уоллиса плохо работают с повторяющимися значениями,\n",
    "но в библиотеке scipy используются методы корректировки для повторяющихся значений.\n"
   ],
   "metadata": {
    "collapsed": false,
    "pycharm": {
     "name": "#%% md\n"
    }
   }
  },
  {
   "cell_type": "markdown",
   "source": [
    "### Kruskal-Wallis test"
   ],
   "metadata": {
    "collapsed": false,
    "pycharm": {
     "name": "#%% md\n"
    }
   }
  },
  {
   "cell_type": "code",
   "execution_count": null,
   "outputs": [],
   "source": [
    "from scipy import stats\n",
    "kr_val, p_val = stats.kruskal(np.array(control.price), np.array(group2.price), np.array(group3.price))\n",
    "print(\n",
    "    f'Kruskall-Wallis test \\n'\n",
    "    f'Statistics={np.round(kr_val, 3)}, p-value={p_val} \\n'\n",
    ")\n",
    "alpha = 0.05\n",
    "if p_val > alpha:\n",
    "    print('Kruskall-Wallis: Samples have equal medians (fail to reject H0) \\n')\n",
    "else:\n",
    "    print('Kruskall-Wallis: Samples medians are not equal (can reject H0) \\n')"
   ],
   "metadata": {
    "collapsed": false,
    "pycharm": {
     "name": "#%%\n"
    }
   }
  },
  {
   "cell_type": "markdown",
   "source": [
    "Мы установили наличие статистически значимых различий, но тест Краскелла-Уоллиса не дает информацию о том,\n",
    "какие именно группы различаются. Для этого нужно провести post hoc (апосетриорный) тест.\n",
    "Используем Dunn's test (чаще всего используют после теста Краскелла-Уоллиса)."
   ],
   "metadata": {
    "collapsed": false,
    "pycharm": {
     "name": "#%% md\n"
    }
   }
  },
  {
   "cell_type": "code",
   "execution_count": null,
   "outputs": [],
   "source": [
    "import scikit_posthocs as sp\n",
    "\n",
    "x = [np.array(control.price), np.array(group2.price), np.array(group3.price)]\n",
    "dunn_test = sp.posthoc_dunn(x, p_adjust = 'holm')\n",
    "dunn_test = pd.DataFrame(dunn_test.stack()).drop_duplicates(subset=0)[1:].rename(columns={0:'p_value'}).reset_index()\n",
    "dunn_test['pairs'] = dunn_test['level_0'].astype(str) + '-' + dunn_test['level_1'].astype(str)\n",
    "dunn_test = dunn_test[['pairs', 'p_value']]\n",
    "dunn_test\n",
    "#Все пары значимо различаются"
   ],
   "metadata": {
    "collapsed": false,
    "pycharm": {
     "name": "#%%\n"
    }
   }
  },
  {
   "cell_type": "code",
   "execution_count": null,
   "outputs": [],
   "source": [
    "#Создадим датасет с разницей в ARPU между группами\n",
    "arpu_diff = pd.DataFrame(\n",
    "    [arpu_per_group.arpu[1] - arpu_per_group.arpu[2],\n",
    "    arpu_per_group.arpu[1] - arpu_per_group.arpu[3],\n",
    "    arpu_per_group.arpu[2] - arpu_per_group.arpu[3]],\n",
    "    columns=['arpu_difference'],\n",
    "    index=['1-2', '1-3',  '2-3']\n",
    ")\n",
    "\n",
    "# Объединим результаты теста с разницей между группами, чтобы посмотреть направление и размер эффекта\n",
    "arpu_test = dunn_test.merge(\n",
    "    arpu_diff,\n",
    "    how='inner',\n",
    "    left_on='pairs',\n",
    "    right_on=arpu_diff.index\n",
    ")\n",
    "arpu_test['reject'] = (arpu_test.p_value<0.05)\n",
    "arpu_test"
   ],
   "metadata": {
    "collapsed": false,
    "pycharm": {
     "name": "#%%\n"
    }
   }
  },
  {
   "cell_type": "markdown",
   "source": [
    "Вывод: разница ARPU всех трех групп статистически значима.\n",
    "Лучший результат показала группа 3, худший - группа 2."
   ],
   "metadata": {
    "collapsed": false,
    "pycharm": {
     "name": "#%% md\n"
    }
   }
  },
  {
   "cell_type": "markdown",
   "source": [
    "# Conversion rate to payment"
   ],
   "metadata": {
    "collapsed": false
   }
  },
  {
   "cell_type": "code",
   "execution_count": null,
   "outputs": [],
   "source": [
    "# Рассчитаем значение CR\n",
    "\n",
    "payments_per_user = first_logins_payments.\\\n",
    "    groupby(['user_id', 'group', 'datetime_first_login', 'datetime_last_login']).\\\n",
    "    agg({'price': 'sum'}).reset_index()\n",
    "\n",
    "CR_per_group = payments_per_user.groupby('group')\\\n",
    "    .agg(\n",
    "    {\n",
    "        'user_id': 'nunique',\n",
    "        'price': lambda x: (x>0).sum(),\n",
    "    }\n",
    ")\n",
    "\n",
    "CR_per_group['conv_rate'] = 100*(CR_per_group['price']/CR_per_group['user_id'])\n",
    "CR_per_group.rename(columns={'user_id':'all_users', 'price':'converted_users'}, inplace=True)\n",
    "CR_per_group"
   ],
   "metadata": {
    "collapsed": false,
    "pycharm": {
     "name": "#%%\n"
    }
   }
  },
  {
   "cell_type": "markdown",
   "source": [
    "Для расчета статистической значимости конверсий можно использовать:\n",
    "- нормализацию и z-test, метод Бонферрони-Холма для правки уровня значимости при множественных сравнениях"
   ],
   "metadata": {
    "collapsed": false,
    "pycharm": {
     "name": "#%% md\n"
    }
   }
  },
  {
   "cell_type": "markdown",
   "source": [
    "## Z-test for CR"
   ],
   "metadata": {
    "collapsed": false,
    "pycharm": {
     "name": "#%% md\n"
    }
   }
  },
  {
   "cell_type": "markdown",
   "source": [
    "Z-test условия:\n",
    "- Данные в генеральной совокупности распределены нормально\n",
    "- Размер выборки n>30"
   ],
   "metadata": {
    "collapsed": false,
    "pycharm": {
     "name": "#%% md\n"
    }
   }
  },
  {
   "cell_type": "code",
   "execution_count": null,
   "outputs": [],
   "source": [
    "# Добавим колонку сконвертировался ли юзер в оплату, для дальнейших расчетов\n",
    "payments_per_user['is_converted'] = payments_per_user.price>0.0\n",
    "payments_per_user"
   ],
   "metadata": {
    "collapsed": false,
    "pycharm": {
     "name": "#%%\n"
    }
   }
  },
  {
   "cell_type": "code",
   "execution_count": null,
   "outputs": [],
   "source": [
    "from statsmodels.stats.proportion import proportions_ztest, proportion_confint\n",
    "\n",
    "# Оставляем только колонку - сконвертировался ли пользователь\n",
    "control_results = payments_per_user[payments_per_user['group'] == 1]['is_converted']\n",
    "group2_results = payments_per_user[payments_per_user['group'] == 2]['is_converted']\n",
    "group3_results = payments_per_user[payments_per_user['group'] == 3]['is_converted']\n",
    "\n",
    "# Считаем количество всех пользователей\n",
    "n_con = control_results.count()\n",
    "n_group2 = group2_results.count()\n",
    "n_group3 = group3_results.count()\n",
    "\n",
    "# Количество сконвертировавшихся пользователей\n",
    "successes = [control_results.sum(), group2_results.sum(), group3_results.sum()]\n",
    "nobs = [n_con, n_group2, n_group3]"
   ],
   "metadata": {
    "collapsed": false,
    "pycharm": {
     "name": "#%%\n"
    }
   }
  },
  {
   "cell_type": "code",
   "execution_count": null,
   "outputs": [],
   "source": [
    "# Посчитаем доверительные интервалы\n",
    "(lower_con, lower_group2, lower_group3), (upper_con, upper_group2, upper_group3) = \\\n",
    "    proportion_confint(successes, nobs=nobs, alpha=0.05)\n",
    "\n",
    "# Доверительные интервалы\n",
    "print(f'ci 95% for control group: [{lower_con:.3f}, {upper_con:.3f}]')\n",
    "print(f'ci 95% for treatment 2nd group: [{lower_group2:.3f}, {upper_group2:.3f}]')\n",
    "print(f'ci 95% for treatment 3rd group: [{lower_group3:.3f}, {upper_group3:.3f}]')\n",
    "\n",
    "# Скорее всего, значимые отличия есть только для второй группы - ее доверительный интервал не пересекается с другими"
   ],
   "metadata": {
    "collapsed": false,
    "pycharm": {
     "name": "#%%\n"
    }
   }
  },
  {
   "cell_type": "code",
   "execution_count": null,
   "outputs": [],
   "source": [
    "# Proportion z-test для control и group 2\n",
    "\n",
    "z_stat1, p_val1 = proportions_ztest(\n",
    "    [control_results.sum(), group2_results.sum()],\n",
    "    nobs=[n_con, n_group2]\n",
    ")\n",
    "print(f'z statistic: {z_stat1:.2f}')\n",
    "print(f'p-value: {p_val1:.3f}')\n",
    "\n",
    "alpha = 0.05\n",
    "if p_val > alpha:\n",
    "    print('Z-test: Samples have equal means (fail to reject H0) \\n')\n",
    "else:\n",
    "    print('Z-test: Samples means are not equal (can reject H0) \\n')"
   ],
   "metadata": {
    "collapsed": false,
    "pycharm": {
     "name": "#%%\n"
    }
   }
  },
  {
   "cell_type": "code",
   "execution_count": null,
   "outputs": [],
   "source": [
    "# Proportion z-test для control и group 3\n",
    "\n",
    "z_stat2, p_val2 = proportions_ztest(\n",
    "    [control_results.sum(), group3_results.sum()],\n",
    "    nobs=[n_con, n_group3]\n",
    ")\n",
    "print(f'z statistic: {z_stat2:.2f}')\n",
    "print(f'p-value: {p_val2:.3f}')\n",
    "\n",
    "alpha = 0.05\n",
    "if p_val2 > alpha:\n",
    "    print('Z-test: Samples have equal means (fail to reject H0) \\n')\n",
    "else:\n",
    "    print('Z-test: Samples means are not equal (can reject H0) \\n')"
   ],
   "metadata": {
    "collapsed": false,
    "pycharm": {
     "name": "#%%\n"
    }
   }
  },
  {
   "cell_type": "code",
   "execution_count": null,
   "outputs": [],
   "source": [
    "# test group2, group3\n",
    "z_stat3, p_val3 = proportions_ztest(\n",
    "    [group2_results.sum(), group3_results.sum()],\n",
    "    nobs=[n_group2, n_group3]\n",
    ")\n",
    "print(f'z statistic: {z_stat3:.2f}')\n",
    "print(f'p-value: {p_val3:.5f}')\n",
    "\n",
    "alpha = 0.05\n",
    "if p_val3 > alpha:\n",
    "    print('Z-test: Samples have equal means (fail to reject H0) \\n')\n",
    "else:\n",
    "    print('Z-test: Samples means are not equal (can reject H0) \\n')"
   ],
   "metadata": {
    "collapsed": false,
    "pycharm": {
     "name": "#%%\n"
    }
   }
  },
  {
   "cell_type": "code",
   "execution_count": null,
   "outputs": [],
   "source": [
    "# Добавим результаты в один датасет\n",
    "CR_z_tets = pd.DataFrame(np.array([\n",
    "    ['1-2', z_stat1, p_val1],\n",
    "    ['1-3', z_stat2, p_val2],\n",
    "    ['2-3', z_stat3, p_val3]\n",
    "]),\n",
    "    columns=['pairs', 'z_stat', 'p_value'])\n",
    "CR_z_tets[['z_stat', 'p_value']] = CR_z_tets[['z_stat', 'p_value']].apply(pd.to_numeric)\n",
    "CR_z_tets"
   ],
   "metadata": {
    "collapsed": false,
    "pycharm": {
     "name": "#%%\n"
    }
   }
  },
  {
   "cell_type": "code",
   "execution_count": null,
   "outputs": [],
   "source": [
    "# Делаем поправку на множественное сравнение\n",
    "res = multipletests(pvals=CR_z_tets.p_value, alpha=0.05, method='h')\n",
    "print(res[0], res[1])\n",
    "CR_z_tets['adjusted_p'] = res[1]\n",
    "CR_z_tets['reject'] = res[0]\n",
    "CR_z_tets"
   ],
   "metadata": {
    "collapsed": false,
    "pycharm": {
     "name": "#%%\n"
    }
   }
  },
  {
   "cell_type": "markdown",
   "source": [
    "Вторая группа значимо лучше конвертирует в оплату, размер эффекта ~ 0,4%.\n",
    "Т.е. разница в 4 человека с 1000 по сравнению с другими группами.\n",
    "Между контрольной и третьей группой статистически значимых различий нет."
   ],
   "metadata": {
    "collapsed": false,
    "pycharm": {
     "name": "#%% md\n"
    }
   }
  },
  {
   "cell_type": "markdown",
   "source": [
    "# Retention 30"
   ],
   "metadata": {
    "collapsed": false
   }
  },
  {
   "cell_type": "code",
   "execution_count": null,
   "outputs": [],
   "source": [
    "# Рассчитать метрики\n",
    "\n",
    "# Добавим к логинам информацию сконвертировался ли пользователь в покупки или нет\n",
    "logins_conv = logins.merge(\n",
    "    payments_per_user[['user_id', 'is_converted', 'datetime_first_login', 'datetime_last_login']],\n",
    "    how='left',\n",
    "    on='user_id'\n",
    ")\n",
    "# Меняем тип данных - убираем время и оставляем только дату (для расчета retention)\n",
    "logins_conv['datetime_first_login'] = logins_conv['datetime_first_login'].dt.date\n",
    "logins_conv['datetime_last_login'] = logins_conv['datetime_last_login'].dt.date\n",
    "logins_conv['datetime'] = logins_conv['datetime'].dt.date\n",
    "logins_conv\n",
    "\n",
    "# Добавляем колонку seniority с \"возрастом\" пользователя в днях\n",
    "logins_conv['seniority']= (logins_conv['datetime'] - logins_conv['datetime_first_login']).dt.days\n",
    "logins_conv"
   ],
   "metadata": {
    "collapsed": false,
    "pycharm": {
     "name": "#%%\n"
    }
   }
  },
  {
   "cell_type": "code",
   "execution_count": null,
   "outputs": [],
   "source": [
    "#Группируем записи по дате первого логина и \"возрасту\", считаем количество записей\n",
    "cohort_data = logins_conv.groupby(['datetime_first_login', 'seniority'])['user_id'].size().reset_index()\n",
    "\n",
    "# Разворачиваем таблицу, индекс-когорты, колонки-\"возраст\"\n",
    "cohorts_size = cohort_data.pivot(index='datetime_first_login', columns='seniority', values='user_id')\n",
    "\n",
    "# Выделяем 0 день, чтобы с помощью него посчитать конверсии\n",
    "base = cohorts_size[0]\n",
    "cohorts_retention = cohorts_size.divide(base, axis=0).round(3)*100\n",
    "cohorts_retention.style.background_gradient()"
   ],
   "metadata": {
    "collapsed": false,
    "pycharm": {
     "name": "#%%\n"
    }
   }
  },
  {
   "cell_type": "code",
   "execution_count": null,
   "outputs": [],
   "source": [
    "# Посмотрим ретеншен по группам, а не по когортам\n",
    "\n",
    "# Оставим только нужные колонки и уберем дубликаты\n",
    "logins_groups =  logins_conv[['group', 'seniority', 'user_id']].drop_duplicates()\n",
    "\n",
    "# Группируем записи по тестовой группе и \"возрасту\", считаем количество записей\n",
    "group_data = logins_groups.groupby(['group', 'seniority'])['user_id'].size().reset_index()\n",
    "\n",
    "# Разворачиваем таблицу, индекс-группы, колонки-\"возраст\"\n",
    "groups_size = group_data.pivot(index='group', columns='seniority', values='user_id')\n",
    "base = groups_size[0]\n",
    "groups_retention = groups_size.divide(base, axis=0).round(5)*100\n",
    "\n",
    "# Выделим ячейки цветом по \"возрасту\"\n",
    "groups_retention.style.background_gradient()"
   ],
   "metadata": {
    "collapsed": false,
    "pycharm": {
     "name": "#%%\n"
    }
   }
  },
  {
   "cell_type": "code",
   "execution_count": null,
   "outputs": [],
   "source": [
    "# Сохраняем retention 1, 7, 30 в отдельный датасет\n",
    "retention_1_7_30 = groups_retention[[1, 7, 30]]\n",
    "retention_1_7_30.rename(columns={1:'retention_1', 7:'retention_7', 30:'retention_30'}, inplace=True)\n",
    "retention_1_7_30"
   ],
   "metadata": {
    "collapsed": false,
    "pycharm": {
     "name": "#%%\n"
    }
   }
  },
  {
   "cell_type": "code",
   "execution_count": null,
   "outputs": [],
   "source": [
    "# Добавляем поле returned_30 - вернулся ли пользователь на 30 день\n",
    "logins_conv['returned_30'] = (logins_conv.datetime_last_login - logins_conv.datetime_first_login).\\\n",
    "                                 dt.days.astype('int16') >= 30\n",
    "# Оставляем только одну запись на пользователя\n",
    "logins_unique = \\\n",
    "    logins_conv[['user_id', 'group', 'datetime_first_login', 'datetime_last_login', 'is_converted', 'returned_30']].\\\n",
    "    drop_duplicates()\n",
    "logins_unique"
   ],
   "metadata": {
    "collapsed": false,
    "pycharm": {
     "name": "#%%\n"
    }
   }
  },
  {
   "cell_type": "code",
   "execution_count": null,
   "outputs": [],
   "source": [
    "# - делим на 3 датасета по группам\n",
    "retention_group1 = logins_unique[ logins_unique.group == 1 ][[ 'user_id', 'group', 'is_converted', 'returned_30' ]]\n",
    "retention_group2 = logins_unique[ logins_unique.group == 2 ][[ 'user_id', 'group', 'is_converted', 'returned_30' ]]\n",
    "retention_group3 = logins_unique[ logins_unique.group == 3 ][[ 'user_id', 'group', 'is_converted', 'returned_30' ]]"
   ],
   "metadata": {
    "collapsed": false,
    "pycharm": {
     "name": "#%%\n"
    }
   }
  },
  {
   "cell_type": "code",
   "execution_count": null,
   "outputs": [],
   "source": [
    "# Считаем количество записей в группах и количество \"успехов\" - Ture\n",
    "r_group1_n = retention_group1['user_id'].nunique()\n",
    "r_group2_n = retention_group2['user_id'].nunique()\n",
    "r_group3_n = retention_group3['user_id'].nunique()\n",
    "\n",
    "r_group1_successes = retention_group1['returned_30'].sum()\n",
    "r_group2_successes = retention_group2['returned_30'].sum()\n",
    "r_group3_successes = retention_group3['returned_30'].sum()\n",
    "\n",
    "nobs = [r_group1_n, r_group2_n, r_group3_n]\n",
    "successes = [r_group1_successes, r_group2_successes, r_group3_successes]"
   ],
   "metadata": {
    "collapsed": false,
    "pycharm": {
     "name": "#%%\n"
    }
   }
  },
  {
   "cell_type": "code",
   "execution_count": null,
   "outputs": [],
   "source": [
    "# Считаем значения доверительных интервалов для каждой выборки\n",
    "(lower_con, lower_group2, lower_group3), (upper_con, upper_group2, upper_group3) = \\\n",
    "    proportion_confint(successes, nobs=nobs, alpha=0.05)\n",
    "print(f'ci 95% for control group: [{lower_con:.5f}, {upper_con:.5f}]')\n",
    "print(f'ci 95% for treatment 2nd group: [{lower_group2:.5f}, {upper_group2:.5f}]')\n",
    "print(f'ci 95% for treatment 3rd group: [{lower_group3:.5f}, {upper_group3:.5f}]')\n",
    "\n",
    "# Явной разницы между группами нет - все доверительные интервалы пересекаются"
   ],
   "metadata": {
    "collapsed": false,
    "pycharm": {
     "name": "#%%\n"
    }
   }
  },
  {
   "cell_type": "code",
   "execution_count": null,
   "outputs": [],
   "source": [
    "# Z-тест test для retention 30 control и group 2\n",
    "z_stat1, p_val1 = proportions_ztest(\n",
    "    [r_group1_successes.sum(), r_group2_successes.sum()],\n",
    "    nobs=[r_group1_n, r_group2_n]\n",
    ")\n",
    "print(f'z statistic: {z_stat1:.5f}')\n",
    "print(f'p-value: {p_val1:.5f}')\n",
    "\n",
    "alpha = 0.05\n",
    "if p_val1 > alpha:\n",
    "    print('Z-test: Samples have equal means (fail to reject H0) \\n')\n",
    "else:\n",
    "    print('Z-test: Samples means are not equal (can reject H0) \\n')"
   ],
   "metadata": {
    "collapsed": false,
    "pycharm": {
     "name": "#%%\n"
    }
   }
  },
  {
   "cell_type": "code",
   "execution_count": null,
   "outputs": [],
   "source": [
    "# Z-тест test для retention 30 control, group 3\n",
    "z_stat2, p_val2 = proportions_ztest(\n",
    "    [r_group1_successes.sum(), r_group3_successes.sum()],\n",
    "    nobs=[r_group1_n, r_group3_n]\n",
    ")\n",
    "print(f'z statistic: {z_stat2:.5f}')\n",
    "print(f'p-value: {p_val2:.5f}')\n",
    "\n",
    "alpha = 0.05\n",
    "if p_val2 > alpha:\n",
    "    print('Z-test: Samples have equal means (fail to reject H0) \\n')\n",
    "else:\n",
    "    print('Z-test: Samples means are not equal (can reject H0) \\n')"
   ],
   "metadata": {
    "collapsed": false,
    "pycharm": {
     "name": "#%%\n"
    }
   }
  },
  {
   "cell_type": "code",
   "execution_count": null,
   "outputs": [],
   "source": [
    "# Z-тест test для retention 30 group2, group3\n",
    "z_stat3, p_val3 = proportions_ztest(\n",
    "    [r_group2_successes.sum(), r_group3_successes.sum()],\n",
    "    nobs=[r_group2_n, r_group3_n]\n",
    ")\n",
    "print(f'z statistic: {z_stat3:.5f}')\n",
    "print(f'p-value: {p_val3:.5f}')\n",
    "\n",
    "alpha = 0.05\n",
    "if p_val3 > alpha:\n",
    "    print('Z-test: Samples have equal means (fail to reject H0) \\n')\n",
    "else:\n",
    "    print('Z-test: Samples means are not equal (can reject H0) \\n')\n"
   ],
   "metadata": {
    "collapsed": false,
    "pycharm": {
     "name": "#%%\n"
    }
   }
  },
  {
   "cell_type": "code",
   "execution_count": null,
   "outputs": [],
   "source": [
    "# Делаем поправку на множественные сравнения\n",
    "z_test_retention_res = pd.DataFrame(np.array([\n",
    "    ['1-2', z_stat1, p_val1],\n",
    "    ['1-3', z_stat2, p_val2],\n",
    "    ['2-3', z_stat3, p_val3]\n",
    "]),\n",
    "    columns=['pairs', 'z_stat', 'p_value'])\n",
    "\n",
    "z_test_retention_res[['z_stat', 'p_value']] = z_test_retention_res[['z_stat', 'p_value']].apply(pd.to_numeric)\n",
    "\n",
    "res = multipletests(pvals=z_test_retention_res.p_value, alpha=0.05, method='hs')\n",
    "print(res[0], res[1])\n",
    "z_test_retention_res['adjusted_p'] = res[1]\n",
    "z_test_retention_res['reject'] = res[0]\n",
    "z_test_retention_res\n",
    "\n",
    "# Статистической разницы в retention 30 дня между группами для всех пользователей - нет\n",
    "# В группах все пользователи - совершившие покупки"
   ],
   "metadata": {
    "collapsed": false,
    "pycharm": {
     "name": "#%%\n"
    }
   }
  },
  {
   "cell_type": "code",
   "execution_count": null,
   "outputs": [],
   "source": [
    "# Проверим есть ли разница в возвращаемости между группами пользователей совершивших покупку\n",
    "logins_unique_conv = logins_conv[['user_id', 'group', 'is_converted', 'returned_30', 'seniority']].drop_duplicates()\n",
    "logins_unique_conv = logins_unique_conv[logins_unique_conv.is_converted==True]\n",
    "\n",
    "# Группируем записи по тестовой группе и \"возрасту\", считаем количество записей\n",
    "group_data_conv = logins_unique_conv.groupby(['group', 'seniority'])['user_id'].size().reset_index()\n",
    "\n",
    "# Разворачиваем таблицу, индекс-группы, колонки-\"возраст\"\n",
    "groups_size_conv = group_data_conv.pivot(index='group', columns='seniority', values='user_id')\n",
    "base = groups_size_conv[0]\n",
    "groups_retention_conv = groups_size_conv.divide(base, axis=0).round(5)*100\n",
    "groups_retention_conv.style.background_gradient()\n"
   ],
   "metadata": {
    "collapsed": false,
    "pycharm": {
     "name": "#%%\n"
    }
   }
  },
  {
   "cell_type": "code",
   "execution_count": null,
   "outputs": [],
   "source": [
    "# Сохраняем retention 1, 7, 30 в отедельный датасет\n",
    "retention_conv_1_7_30 = groups_retention_conv[[1, 7, 30]]\n",
    "retention_conv_1_7_30.rename(columns={1:'retention_1', 7:'retention_7', 30:'retention_30'}, inplace=True)\n",
    "retention_conv_1_7_30"
   ],
   "metadata": {
    "collapsed": false,
    "pycharm": {
     "name": "#%%\n"
    }
   }
  },
  {
   "cell_type": "code",
   "execution_count": null,
   "outputs": [],
   "source": [
    "# делим на 3 датасета по группам\n",
    "retention_conv_group1 = logins_unique_conv[ logins_unique_conv.group == 1 ][[ 'user_id', 'group', 'is_converted', 'returned_30' ]].drop_duplicates()\n",
    "retention_conv_group2 = logins_unique_conv[ logins_unique_conv.group == 2 ][[ 'user_id', 'group', 'is_converted', 'returned_30' ]].drop_duplicates()\n",
    "retention_conv_group3 = logins_unique_conv[ logins_unique_conv.group == 3 ][[ 'user_id', 'group', 'is_converted', 'returned_30' ]].drop_duplicates()"
   ],
   "metadata": {
    "collapsed": false,
    "pycharm": {
     "name": "#%%\n"
    }
   }
  },
  {
   "cell_type": "code",
   "execution_count": null,
   "outputs": [],
   "source": [
    "# - считаем количество записей в группах, количество \"успехов\" - Ture\n",
    "r_conv_group1_n = retention_conv_group1['user_id'].nunique()\n",
    "r_conv_group2_n = retention_conv_group2['user_id'].nunique()\n",
    "r_conv_group3_n = retention_conv_group3['user_id'].nunique()\n",
    "\n",
    "r_conv_group1_successes = retention_conv_group1['returned_30'].sum()\n",
    "r_conv_group2_successes = retention_conv_group2['returned_30'].sum()\n",
    "r_conv_group3_successes = retention_conv_group3['returned_30'].sum()\n",
    "\n",
    "nobs = [r_conv_group1_n, r_conv_group2_n, r_conv_group3_n]\n",
    "successes = [r_conv_group1_successes, r_conv_group2_successes, r_conv_group3_successes]"
   ],
   "metadata": {
    "collapsed": false,
    "pycharm": {
     "name": "#%%\n"
    }
   }
  },
  {
   "cell_type": "code",
   "execution_count": null,
   "outputs": [],
   "source": [
    "# Cчитаем значения доверительных интервалов для каждой выборки\n",
    "(lower_con, lower_group2, lower_group3), (upper_con, upper_group2, upper_group3) = \\\n",
    "    proportion_confint(successes, nobs=nobs, alpha=0.05)\n",
    "\n",
    "# Доверительный интервал\n",
    "print(f'ci 95% for control group: [{lower_con:.5f}, {upper_con:.5f}]')\n",
    "print(f'ci 95% for treatment 2nd group: [{lower_group2:.5f}, {upper_group2:.5f}]')\n",
    "print(f'ci 95% for treatment 3rd group: [{lower_group3:.5f}, {upper_group3:.5f}]')\n",
    "\n",
    "# Группа 2 скорее всего значимо отличается от остальных групп\n",
    "# - доверительный интервал 2 группы не пересекается с другими"
   ],
   "metadata": {
    "collapsed": false,
    "pycharm": {
     "name": "#%%\n"
    }
   }
  },
  {
   "cell_type": "code",
   "execution_count": null,
   "outputs": [],
   "source": [
    "# z-тест для каждой группы\n",
    "\n",
    "# Z-тест test для retention 30 для test control, group2 (пользователи совершившие покупку)\n",
    "z_stat1, p_val1 = proportions_ztest(\n",
    "    [r_conv_group1_successes.sum(), r_conv_group2_successes.sum()],\n",
    "    nobs=[r_conv_group1_n, r_conv_group2_n]\n",
    ")\n",
    "print(f'z statistic: {z_stat1:.5f}')\n",
    "print(f'p-value: {p_val1:.5f}')\n",
    "\n",
    "alpha = 0.05\n",
    "if p_val1 > alpha:\n",
    "    print('Z-test: Samples have equal means (fail to reject H0) \\n')\n",
    "else:\n",
    "    print('Z-test: Samples means are not equal (can reject H0) \\n')"
   ],
   "metadata": {
    "collapsed": false,
    "pycharm": {
     "name": "#%%\n"
    }
   }
  },
  {
   "cell_type": "code",
   "execution_count": null,
   "outputs": [],
   "source": [
    "# Z-тест test для retention 30 для test control, group3 (пользователи совершившие покупку)\n",
    "\n",
    "z_stat2, p_val2 = proportions_ztest(\n",
    "    [r_conv_group1_successes.sum(), r_conv_group3_successes.sum()],\n",
    "    nobs=[r_conv_group1_n, r_conv_group3_n]\n",
    ")\n",
    "print(f'z statistic: {z_stat2:.5f}')\n",
    "print(f'p-value: {p_val2:.5f}')\n",
    "\n",
    "alpha = 0.05\n",
    "if p_val2 > alpha:\n",
    "    print('Z-test: Samples have equal means (fail to reject H0) \\n')\n",
    "else:\n",
    "    print('Z-test: Samples means are not equal (can reject H0) \\n')"
   ],
   "metadata": {
    "collapsed": false,
    "pycharm": {
     "name": "#%%\n"
    }
   }
  },
  {
   "cell_type": "code",
   "execution_count": null,
   "outputs": [],
   "source": [
    "# Z-тест test для retention 30 для test group2, group3 (пользователи совершившие покупку)\n",
    "\n",
    "z_stat3, p_val3 = proportions_ztest(\n",
    "    [r_conv_group2_successes.sum(), r_conv_group3_successes.sum()],\n",
    "    nobs=[r_conv_group2_n, r_conv_group3_n]\n",
    ")\n",
    "print(f'z statistic: {z_stat3:.5f}')\n",
    "print(f'p-value: {p_val3:.5f}')\n",
    "\n",
    "alpha = 0.05\n",
    "if p_val3 > alpha:\n",
    "    print('Z-test: Samples have equal means (fail to reject H0) \\n')\n",
    "else:\n",
    "    print('Z-test: Samples means are not equal (can reject H0) \\n')"
   ],
   "metadata": {
    "collapsed": false,
    "pycharm": {
     "name": "#%%\n"
    }
   }
  },
  {
   "cell_type": "code",
   "execution_count": null,
   "outputs": [],
   "source": [
    "# Делаем поправку на множественное сравнение\n",
    "z_test_retention_conv_res = pd.DataFrame(np.array([\n",
    "    ['paying_1-2', z_stat1, p_val1],\n",
    "    ['paying_1-3', z_stat2, p_val2],\n",
    "    ['paying_2-3', z_stat3, p_val3]\n",
    "]),\n",
    "    columns=['pairs', 'z_stat', 'p_value'])\n",
    "\n",
    "z_test_retention_conv_res[['z_stat', 'p_value']] = z_test_retention_conv_res[['z_stat', 'p_value']].apply(pd.to_numeric)\n",
    "\n",
    "res = multipletests(pvals=z_test_retention_conv_res.p_value, alpha=0.05, method='hs')\n",
    "print(res[0], res[1])\n",
    "z_test_retention_conv_res['adjusted_p'] = res[1]\n",
    "z_test_retention_conv_res['reject'] = res[0]\n",
    "z_test_retention_conv_res\n",
    "\n",
    "# Группа 2 значимо отличается, возвращаемость пользователей из второй группы ниже, чем в других группах,\n",
    "# размер эффекта ~6.5-7 %"
   ],
   "metadata": {
    "collapsed": false,
    "pycharm": {
     "name": "#%%\n"
    }
   }
  },
  {
   "cell_type": "code",
   "execution_count": null,
   "outputs": [],
   "source": [
    "# Объедининяем все метрики в 1 датасет\n",
    "\n",
    "metrics = arpu_per_group.merge(\n",
    "    CR_per_group,\n",
    "    how='inner',\n",
    "    left_on=arpu_per_group.index,\n",
    "    right_on=CR_per_group.index\n",
    ").merge(\n",
    "    retention_1_7_30,\n",
    "    how='inner',\n",
    "    left_on='key_0',\n",
    "    right_on=retention_1_7_30.index\n",
    ").merge(\n",
    "    retention_conv_1_7_30,\n",
    "    how='inner',\n",
    "    left_on='key_0',\n",
    "    right_on=retention_conv_1_7_30.index,\n",
    "    suffixes=[None, '_paying']\n",
    ")\n",
    "metrics.rename(columns={'key_0':'group', 'sum':'revenue', }, inplace=True)\n",
    "metrics"
   ],
   "metadata": {
    "collapsed": false,
    "pycharm": {
     "name": "#%%\n"
    }
   }
  },
  {
   "cell_type": "code",
   "execution_count": null,
   "outputs": [],
   "source": [
    "# Выгружаем датасеты\n",
    "#\n",
    "# metrics.to_csv('metrics.csv')\n",
    "# arpu_test.to_csv('arpu_test.csv')\n",
    "# CR_z_tets.to_csv('cr_z_test.csv')\n",
    "# z_test_retention_res.to_csv('z_test_retention_.csv')\n",
    "# z_test_retention_conv_res.to_csv('z_test_retention_conv.csv')\n",
    "# first_logins_payments.to_csv('first_logins_payments.csv')"
   ],
   "metadata": {
    "collapsed": false,
    "pycharm": {
     "name": "#%%\n"
    }
   }
  },
  {
   "cell_type": "code",
   "execution_count": null,
   "outputs": [],
   "source": [
    "first_logins_payments.merge(\n",
    "    logins[['uset_id', 'datetime']],\n",
    "    how='left',\n",
    "    ob='user_id'\n",
    ")"
   ],
   "metadata": {
    "collapsed": false,
    "pycharm": {
     "name": "#%%\n"
    }
   }
  },
  {
   "cell_type": "markdown",
   "source": [
    "# Итоги:\n",
    "\n",
    "**ARPU**: разница ARPU всех трех групп статистически значима. Лучший результат показала группа 3, худший - группа 2.\n",
    "Для второй группы на ~ $0.75-$0.86 меньше на пользователя в среднем\n",
    "\n",
    "**CR**: Вторая группа значимо лучше конвертирует в оплату, размер эффекта ~ 0,4%. Т.е. разница в 4 человека с 1000\n",
    "\n",
    "**Retention 30 all**: Значимой разницы нет\n",
    "\n",
    "**Retention 30 paying users**: Группа 2 значимо отличается, возвращаемость пользователей из второй группы ниже,\n",
    "чем в других группах,размер эффекта ~6.5-7 %\n",
    "\n",
    "# Выводы:\n",
    "Снижение порога входа для покупок не принесло желаемого эффекта -\n",
    "для группы 2 с более дешевым предложением несмотря на больший объем изначальной выборки,\n",
    "и более высокую конверсию (~ 0,4%),\n",
    "средний доход на пользователя ниже практически на четверть ($0.24-$0.27) - примерно на размер уменьшения цены,\n",
    "а возвращаемость на 30 день ниже на 6.5-7 %.\n",
    "Меньшая цена не привлекает значимое количество пользователей, чтобы компенсировать убыток от уменьшения цены.\n",
    "В дальнейшем эти пользователи не склонные тратить больше денег и меньше привязываются к игре.\n",
    "\n",
    "Группа 3 от контрольной значимо отличается только по среднему доходу, но всего на $0,03,\n",
    "что на большом объеме за 30 дней дало значительную разницу в $3719,76.\n",
    "По всем остальным показателям - конверсия, возвращаемость, группа 3 превышает показатели контрольной группы,\n",
    "хотя и не значимо.\n",
    "На пользователей 3 группы могут влиять два фактора -\n",
    "возможность купить ресурсы отдельно и длительность получения покупки.\n",
    "\n",
    "Я бы советовала выделить эти факторы из 3 группы и протестировать отдельно,\n",
    "чтобы выяснить: приводит ли какой-то из них к улучшению метрик.\n",
    "\n"
   ],
   "metadata": {
    "collapsed": false,
    "pycharm": {
     "name": "#%% md\n"
    }
   }
  }
 ],
 "metadata": {
  "kernelspec": {
   "display_name": "Python 3",
   "language": "python",
   "name": "python3"
  },
  "language_info": {
   "codemirror_mode": {
    "name": "ipython",
    "version": 2
   },
   "file_extension": ".py",
   "mimetype": "text/x-python",
   "name": "python",
   "nbconvert_exporter": "python",
   "pygments_lexer": "ipython2",
   "version": "2.7.6"
  }
 },
 "nbformat": 4,
 "nbformat_minor": 0
}