{
 "cells": [
  {
   "cell_type": "code",
   "execution_count": 1,
   "metadata": {
    "collapsed": true
   },
   "outputs": [],
   "source": [
    "import numpy as np\n",
    "import pandas as pd\n",
    "from matplotlib import pyplot as plt\n",
    "import seaborn as sns\n",
    "from statsmodels.stats.multitest import multipletests"
   ]
  },
  {
   "cell_type": "markdown",
   "source": [
    "## Воспроизведение проблемы с расчетом доверительного интервала после применения bootstrap"
   ],
   "metadata": {
    "collapsed": false,
    "pycharm": {
     "name": "#%% md\n"
    }
   }
  },
  {
   "cell_type": "code",
   "execution_count": 41,
   "outputs": [],
   "source": [
    "#Загружаем данные\n",
    "logins = pd.read_csv('data/logins.csv')\n",
    "payments = pd.read_csv('data/payments.csv')"
   ],
   "metadata": {
    "collapsed": false,
    "pycharm": {
     "name": "#%%\n"
    }
   }
  },
  {
   "cell_type": "code",
   "execution_count": 42,
   "outputs": [],
   "source": [
    "# Привести все таймстампы к дейт тайму\n",
    "logins['datetime'] = pd.to_datetime(logins['timestamp'], unit='s')\n",
    "payments['datetime'] = pd.to_datetime(payments['timestamp'], unit='s')\n",
    "\n",
    "# Выделяем дату из дейттайма\n",
    "logins['date'] = logins['datetime'].dt.date\n",
    "payments['date'] = payments['datetime'].dt.date"
   ],
   "metadata": {
    "collapsed": false,
    "pycharm": {
     "name": "#%%\n"
    }
   }
  },
  {
   "cell_type": "code",
   "execution_count": 111,
   "outputs": [
    {
     "data": {
      "text/plain": "         timestamp       user_id  group          datetime_x        date  \\\n0       1116547257  300647965937      2 2005-05-20 00:00:57  2005-05-20   \n1       1116547342  300647965938      2 2005-05-20 00:02:22  2005-05-20   \n2       1116547342  300647965942      1 2005-05-20 00:02:22  2005-05-20   \n3       1116547567  300647965950      2 2005-05-20 00:06:07  2005-05-20   \n4       1116547730  300647965957      3 2005-05-20 00:08:50  2005-05-20   \n...            ...           ...    ...                 ...         ...   \n124891  1123957167  304942760556      2 2005-08-13 18:19:27  2005-08-13   \n124892  1124110876  304942750846      1 2005-08-15 13:01:16  2005-08-15   \n124893  1124194712  304942759552      1 2005-08-16 12:18:32  2005-08-16   \n124894  1124319998  304942766740      1 2005-08-17 23:06:38  2005-08-17   \n124895  1124373379  279172900578      2 2005-08-18 13:56:19  2005-08-18   \n\n       datetime_y payment_tag  price  \n0             NaT         NaN    0.0  \n1             NaT         NaN    0.0  \n2             NaT         NaN    0.0  \n3             NaT         NaN    0.0  \n4             NaT         NaN    0.0  \n...           ...         ...    ...  \n124891        NaT         NaN    0.0  \n124892        NaT         NaN    0.0  \n124893        NaT         NaN    0.0  \n124894        NaT         NaN    0.0  \n124895        NaT         NaN    0.0  \n\n[124896 rows x 8 columns]",
      "text/html": "<div>\n<style scoped>\n    .dataframe tbody tr th:only-of-type {\n        vertical-align: middle;\n    }\n\n    .dataframe tbody tr th {\n        vertical-align: top;\n    }\n\n    .dataframe thead th {\n        text-align: right;\n    }\n</style>\n<table border=\"1\" class=\"dataframe\">\n  <thead>\n    <tr style=\"text-align: right;\">\n      <th></th>\n      <th>timestamp</th>\n      <th>user_id</th>\n      <th>group</th>\n      <th>datetime_x</th>\n      <th>date</th>\n      <th>datetime_y</th>\n      <th>payment_tag</th>\n      <th>price</th>\n    </tr>\n  </thead>\n  <tbody>\n    <tr>\n      <th>0</th>\n      <td>1116547257</td>\n      <td>300647965937</td>\n      <td>2</td>\n      <td>2005-05-20 00:00:57</td>\n      <td>2005-05-20</td>\n      <td>NaT</td>\n      <td>NaN</td>\n      <td>0.0</td>\n    </tr>\n    <tr>\n      <th>1</th>\n      <td>1116547342</td>\n      <td>300647965938</td>\n      <td>2</td>\n      <td>2005-05-20 00:02:22</td>\n      <td>2005-05-20</td>\n      <td>NaT</td>\n      <td>NaN</td>\n      <td>0.0</td>\n    </tr>\n    <tr>\n      <th>2</th>\n      <td>1116547342</td>\n      <td>300647965942</td>\n      <td>1</td>\n      <td>2005-05-20 00:02:22</td>\n      <td>2005-05-20</td>\n      <td>NaT</td>\n      <td>NaN</td>\n      <td>0.0</td>\n    </tr>\n    <tr>\n      <th>3</th>\n      <td>1116547567</td>\n      <td>300647965950</td>\n      <td>2</td>\n      <td>2005-05-20 00:06:07</td>\n      <td>2005-05-20</td>\n      <td>NaT</td>\n      <td>NaN</td>\n      <td>0.0</td>\n    </tr>\n    <tr>\n      <th>4</th>\n      <td>1116547730</td>\n      <td>300647965957</td>\n      <td>3</td>\n      <td>2005-05-20 00:08:50</td>\n      <td>2005-05-20</td>\n      <td>NaT</td>\n      <td>NaN</td>\n      <td>0.0</td>\n    </tr>\n    <tr>\n      <th>...</th>\n      <td>...</td>\n      <td>...</td>\n      <td>...</td>\n      <td>...</td>\n      <td>...</td>\n      <td>...</td>\n      <td>...</td>\n      <td>...</td>\n    </tr>\n    <tr>\n      <th>124891</th>\n      <td>1123957167</td>\n      <td>304942760556</td>\n      <td>2</td>\n      <td>2005-08-13 18:19:27</td>\n      <td>2005-08-13</td>\n      <td>NaT</td>\n      <td>NaN</td>\n      <td>0.0</td>\n    </tr>\n    <tr>\n      <th>124892</th>\n      <td>1124110876</td>\n      <td>304942750846</td>\n      <td>1</td>\n      <td>2005-08-15 13:01:16</td>\n      <td>2005-08-15</td>\n      <td>NaT</td>\n      <td>NaN</td>\n      <td>0.0</td>\n    </tr>\n    <tr>\n      <th>124893</th>\n      <td>1124194712</td>\n      <td>304942759552</td>\n      <td>1</td>\n      <td>2005-08-16 12:18:32</td>\n      <td>2005-08-16</td>\n      <td>NaT</td>\n      <td>NaN</td>\n      <td>0.0</td>\n    </tr>\n    <tr>\n      <th>124894</th>\n      <td>1124319998</td>\n      <td>304942766740</td>\n      <td>1</td>\n      <td>2005-08-17 23:06:38</td>\n      <td>2005-08-17</td>\n      <td>NaT</td>\n      <td>NaN</td>\n      <td>0.0</td>\n    </tr>\n    <tr>\n      <th>124895</th>\n      <td>1124373379</td>\n      <td>279172900578</td>\n      <td>2</td>\n      <td>2005-08-18 13:56:19</td>\n      <td>2005-08-18</td>\n      <td>NaT</td>\n      <td>NaN</td>\n      <td>0.0</td>\n    </tr>\n  </tbody>\n</table>\n<p>124896 rows × 8 columns</p>\n</div>"
     },
     "execution_count": 111,
     "metadata": {},
     "output_type": "execute_result"
    }
   ],
   "source": [
    "# К данным о логинах добавляем данные о платежах,\n",
    "unique_logins = logins.drop_duplicates(subset='user_id')\n",
    "\n",
    "unique_logins_payments = unique_logins.merge(\n",
    "    payments[['user_id', 'datetime', 'payment_tag', 'price']],\n",
    "    how='left',\n",
    "    on='user_id',\n",
    ")\n",
    "\n",
    "unique_logins_payments.fillna({'price':0.0}, inplace=True)\n",
    "unique_logins_payments.groupby('group').price.sum()\n",
    "unique_logins_payments"
   ],
   "metadata": {
    "collapsed": false,
    "pycharm": {
     "name": "#%%\n"
    }
   }
  },
  {
   "cell_type": "code",
   "execution_count": 75,
   "outputs": [],
   "source": [
    "# Разделим данные на группы\n",
    "control = unique_logins_payments[unique_logins_payments['group'] == 1]\n",
    "group2 = unique_logins_payments[unique_logins_payments['group'] == 2]\n",
    "group3 = unique_logins_payments[unique_logins_payments['group'] == 3]"
   ],
   "metadata": {
    "collapsed": false,
    "pycharm": {
     "name": "#%%\n"
    }
   }
  },
  {
   "cell_type": "code",
   "execution_count": 187,
   "outputs": [],
   "source": [
    "# Используем bootstrap для создания распределений ARPU\n",
    "\n",
    "boot_1= []\n",
    "for i in range(1000):\n",
    "    boot_sample = control.sample(frac = 1.0, replace = True)\n",
    "    boot_arpu = sum(boot_sample.price)/boot_sample.user_id.nunique()\n",
    "    boot_1.append(boot_arpu)\n",
    "boot_1 = pd.DataFrame(boot_1)\n",
    "\n",
    "boot_2= []\n",
    "for i in range(1000):\n",
    "    boot_sample = group2.sample(frac = 1.0, replace = True)\n",
    "    boot_arpu = sum(boot_sample.price)/boot_sample.user_id.nunique()\n",
    "    boot_2.append(boot_arpu)\n",
    "boot_2 = pd.DataFrame(boot_2)\n",
    "\n",
    "boot_3= []\n",
    "for i in range(1000):\n",
    "    boot_sample = group3.sample(frac = 1.0, replace = True)\n",
    "    boot_arpu = sum(boot_sample.price)/boot_sample.user_id.nunique()\n",
    "    boot_3.append(boot_arpu)\n",
    "\n",
    "boot_3 = pd.DataFrame(boot_3)\n"
   ],
   "metadata": {
    "collapsed": false,
    "pycharm": {
     "name": "#%%\n"
    }
   }
  },
  {
   "cell_type": "code",
   "execution_count": 188,
   "outputs": [
    {
     "data": {
      "text/plain": "            0\n0   -0.377460\n1   -0.566472\n2   -0.118069\n3   -0.239714\n4   -0.050458\n..        ...\n995 -0.191387\n996 -0.355319\n997 -0.089364\n998 -0.414968\n999 -0.014795\n\n[1000 rows x 1 columns]",
      "text/html": "<div>\n<style scoped>\n    .dataframe tbody tr th:only-of-type {\n        vertical-align: middle;\n    }\n\n    .dataframe tbody tr th {\n        vertical-align: top;\n    }\n\n    .dataframe thead th {\n        text-align: right;\n    }\n</style>\n<table border=\"1\" class=\"dataframe\">\n  <thead>\n    <tr style=\"text-align: right;\">\n      <th></th>\n      <th>0</th>\n    </tr>\n  </thead>\n  <tbody>\n    <tr>\n      <th>0</th>\n      <td>-0.377460</td>\n    </tr>\n    <tr>\n      <th>1</th>\n      <td>-0.566472</td>\n    </tr>\n    <tr>\n      <th>2</th>\n      <td>-0.118069</td>\n    </tr>\n    <tr>\n      <th>3</th>\n      <td>-0.239714</td>\n    </tr>\n    <tr>\n      <th>4</th>\n      <td>-0.050458</td>\n    </tr>\n    <tr>\n      <th>...</th>\n      <td>...</td>\n    </tr>\n    <tr>\n      <th>995</th>\n      <td>-0.191387</td>\n    </tr>\n    <tr>\n      <th>996</th>\n      <td>-0.355319</td>\n    </tr>\n    <tr>\n      <th>997</th>\n      <td>-0.089364</td>\n    </tr>\n    <tr>\n      <th>998</th>\n      <td>-0.414968</td>\n    </tr>\n    <tr>\n      <th>999</th>\n      <td>-0.014795</td>\n    </tr>\n  </tbody>\n</table>\n<p>1000 rows × 1 columns</p>\n</div>"
     },
     "execution_count": 188,
     "metadata": {},
     "output_type": "execute_result"
    }
   ],
   "source": [
    "# Рассчитаем разницы распределений ARPU попарно\n",
    "boot1_2 = boot_1-boot_2\n",
    "boot1_3 = boot_1-boot_3\n",
    "boot2_3 = boot_2-boot_3"
   ],
   "metadata": {
    "collapsed": false,
    "pycharm": {
     "name": "#%%\n"
    }
   }
  },
  {
   "cell_type": "code",
   "execution_count": 189,
   "outputs": [
    {
     "name": "stderr",
     "output_type": "stream",
     "text": [
      "c:\\users\\ivnat\\projects\\scorewarriors_test\\venv\\lib\\site-packages\\seaborn\\distributions.py:2619: FutureWarning: `distplot` is a deprecated function and will be removed in a future version. Please adapt your code to use either `displot` (a figure-level function with similar flexibility) or `kdeplot` (an axes-level function for kernel density plots).\n",
      "  warnings.warn(msg, FutureWarning)\n",
      "c:\\users\\ivnat\\projects\\scorewarriors_test\\venv\\lib\\site-packages\\seaborn\\distributions.py:2619: FutureWarning: `distplot` is a deprecated function and will be removed in a future version. Please adapt your code to use either `displot` (a figure-level function with similar flexibility) or `kdeplot` (an axes-level function for kernel density plots).\n",
      "  warnings.warn(msg, FutureWarning)\n",
      "c:\\users\\ivnat\\projects\\scorewarriors_test\\venv\\lib\\site-packages\\seaborn\\distributions.py:2619: FutureWarning: `distplot` is a deprecated function and will be removed in a future version. Please adapt your code to use either `displot` (a figure-level function with similar flexibility) or `kdeplot` (an axes-level function for kernel density plots).\n",
      "  warnings.warn(msg, FutureWarning)\n"
     ]
    },
    {
     "data": {
      "text/plain": "<Figure size 432x288 with 1 Axes>",
      "image/png": "[encoded data removed]"
     },
     "metadata": {
      "needs_background": "light"
     },
     "output_type": "display_data"
    }
   ],
   "source": [
    "# Визуализируем разницу\n",
    "fig, ax = plt.subplots()\n",
    "sns.distplot(boot1_2[0], hist=False)\n",
    "sns.distplot(boot1_3[0], hist=False)\n",
    "sns.distplot(boot2_3[0], hist=False)\n",
    "plt.axvline( x=0.0, color='r', linestyle='dashed', linewidth=1, label=f'mean')\n",
    "ax.legend(['control-group2', 'control-group3', 'group2-group3'])\n",
    "plt.show()\n"
   ],
   "metadata": {
    "collapsed": false,
    "pycharm": {
     "name": "#%%\n"
    }
   }
  },
  {
   "cell_type": "code",
   "execution_count": 196,
   "outputs": [
    {
     "data": {
      "text/plain": "(-24.912781754285966, 6.125872659388898e-107)"
     },
     "execution_count": 196,
     "metadata": {},
     "output_type": "execute_result"
    }
   ],
   "source": [
    "# Проводим одновыборочный t-test с нулем\n",
    "from scipy import stats\n",
    "t, p = stats.ttest_1samp(boot1_3[0], popmean=0)\n",
    "t,p\n",
    "\n",
    "# p-value практически равен нулю"
   ],
   "metadata": {
    "collapsed": false,
    "pycharm": {
     "name": "#%%\n"
    }
   }
  },
  {
   "cell_type": "code",
   "execution_count": 197,
   "outputs": [
    {
     "data": {
      "text/plain": "(-24.912781754285966, 5.408832364390017e-137)"
     },
     "execution_count": 197,
     "metadata": {},
     "output_type": "execute_result"
    }
   ],
   "source": [
    "from statsmodels.stats.weightstats import ztest\n",
    "ztest(boot1_3[0], alternative='two-sided', usevar='pooled')\n",
    "# Та же ситуация с z-тестом"
   ],
   "metadata": {
    "collapsed": false,
    "pycharm": {
     "name": "#%%\n"
    }
   }
  },
  {
   "cell_type": "code",
   "execution_count": 198,
   "outputs": [
    {
     "name": "stdout",
     "output_type": "stream",
     "text": [
      "Min -0.8481230477155961 \n",
      "Mean -0.164639769564099 \n",
      "Max 0.5876765564118642\n"
     ]
    },
    {
     "data": {
      "text/plain": "(-0.18169509787591917, -0.14758444125227885)"
     },
     "execution_count": 198,
     "metadata": {},
     "output_type": "execute_result"
    }
   ],
   "source": [
    "# Построим доверительный интервал\n",
    "import numpy as np, scipy.stats as st\n",
    "\n",
    "print(\n",
    "    f'Min {boot1_3[0].min()} \\n'\n",
    "    f'Mean {boot1_3[0].mean()} \\n'\n",
    "    f'Max {boot1_3[0].max()}'\n",
    "\n",
    ")\n",
    "ci = st.t.interval(0.99, len(boot1_3[0])-1, loc=np.mean(boot1_3[0]), scale=st.sem(boot1_3[0]))\n",
    "ci\n",
    "\n",
    "# Доверительный интервал получается очень узким, практически как среднее значение"
   ],
   "metadata": {
    "collapsed": false,
    "pycharm": {
     "name": "#%%\n"
    }
   }
  },
  {
   "cell_type": "code",
   "execution_count": 199,
   "outputs": [
    {
     "name": "stdout",
     "output_type": "stream",
     "text": [
      "0 normality check \n",
      "\n",
      "Shapiro-Wilk normality test for 0\n",
      "Statistics=0.9986, p-value=0.6202% \n",
      "\n",
      "Shapiro-Wilk: Sample looks Gaussian (fail to reject H0) \n",
      "\n",
      "D’Agostino’s K^2 normality Test test for 0\n",
      "Statistics=0.9745, p-value=0.6143% \n",
      "\n",
      "D’Agostino’s: Sample looks Gaussian (fail to reject H0) \n",
      "\n"
     ]
    }
   ],
   "source": [
    "from stat_funcs import statistical_normality_test\n",
    "\n",
    "statistical_normality_test(feature_name=0, df_name=boot1_3, alpha=0.05)\n"
   ],
   "metadata": {
    "collapsed": false,
    "pycharm": {
     "name": "#%%\n"
    }
   }
  },
  {
   "cell_type": "code",
   "execution_count": 200,
   "outputs": [
    {
     "data": {
      "text/plain": "<Figure size 432x288 with 1 Axes>",
      "image/png": "[encoded data removed]"
     },
     "metadata": {
      "needs_background": "light"
     },
     "output_type": "display_data"
    }
   ],
   "source": [
    "# Plot the PDF for bootstrap replicates as histogram\n",
    "plt.hist(boot1_3,bins=30)\n",
    "\n",
    "# Showing the related percentiles\n",
    "plt.axvline(x=np.percentile(boot1_3,[2.5]), ymin=0, ymax=1,label='2.5th percentile',c='y')\n",
    "plt.axvline( x=0.0, color='r', linestyle='dashed', linewidth=1, label=f'mean')\n",
    "plt.axvline(x=np.percentile(boot1_3,[97.5]), ymin=0, ymax=1,label='97.5th percentile',c='y')\n",
    "\n",
    "plt.xlabel(\"Control and Group3 means difference\")\n",
    "plt.ylabel(\"PDF\")\n",
    "plt.title(\"Probability Density Function\")\n",
    "plt.legend()\n",
    "plt.show()\n",
    "\n",
    "# Но при расчете доверительного интервала с помощью np.percentile дает корректный результат"
   ],
   "metadata": {
    "collapsed": false,
    "pycharm": {
     "name": "#%%\n"
    }
   }
  },
  {
   "cell_type": "code",
   "execution_count": 201,
   "outputs": [
    {
     "name": "stdout",
     "output_type": "stream",
     "text": [
      "The confidence interval:  [-0.56088956  0.24680559]\n"
     ]
    }
   ],
   "source": [
    "# Get the corresponding values of 2.5th and 97.5th percentiles\n",
    "conf_interval = np.percentile(boot1_3,[2.5,97.5])\n",
    "\n",
    "# Print the interval\n",
    "print(\"The confidence interval: \",conf_interval)\n",
    "\n",
    "\n"
   ],
   "metadata": {
    "collapsed": false,
    "pycharm": {
     "name": "#%%\n"
    }
   }
  }
 ],
 "metadata": {
  "kernelspec": {
   "display_name": "Python 3",
   "language": "python",
   "name": "python3"
  },
  "language_info": {
   "codemirror_mode": {
    "name": "ipython",
    "version": 2
   },
   "file_extension": ".py",
   "mimetype": "text/x-python",
   "name": "python",
   "nbconvert_exporter": "python",
   "pygments_lexer": "ipython2",
   "version": "2.7.6"
  }
 },
 "nbformat": 4,
 "nbformat_minor": 0
}